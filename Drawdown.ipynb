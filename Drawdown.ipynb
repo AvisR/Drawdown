{
  "nbformat": 4,
  "nbformat_minor": 0,
  "metadata": {
    "colab": {
      "name": "Drawdown.ipynb",
      "provenance": [],
      "collapsed_sections": [],
      "include_colab_link": true
    },
    "kernelspec": {
      "name": "python3",
      "display_name": "Python 3"
    },
    "language_info": {
      "name": "python"
    }
  },
  "cells": [
    {
      "cell_type": "markdown",
      "metadata": {
        "id": "view-in-github",
        "colab_type": "text"
      },
      "source": [
        "<a href=\"https://colab.research.google.com/github/AvisR/Drawdown/blob/main/Drawdown.ipynb\" target=\"_parent\"><img src=\"https://colab.research.google.com/assets/colab-badge.svg\" alt=\"Open In Colab\"/></a>"
      ]
    },
    {
      "cell_type": "markdown",
      "source": [
        "Question - Find Nth largest drawdowns given the return series and N\n",
        "\n",
        "Defining Drawdown - Largest negative movement in percentage. 2nd largest drawdown will be the 2nd largest negative movement in percentage. \n",
        "\n",
        "Drawdown = (Peak - Trough)/Peak\n",
        "\n",
        "Return series = rets\n",
        "\n",
        "N = N\n",
        "\n",
        "---\n",
        "\n"
      ],
      "metadata": {
        "id": "gGAsJUAZLal2"
      }
    },
    {
      "cell_type": "code",
      "source": [
        "#INPUTS - Create a list of random returns from (-5% and 10%)\n",
        "#This will not be needed if we have a list of our own returns.\n",
        "#II = Initial Investment\n",
        "\n",
        "II = 1\n",
        "N = 1\n",
        "\n",
        "import random\n",
        "rets = random.sample(range(-50,100),100)\n",
        "rets = [x/1000 for x in rets]\n",
        "\n",
        "print(rets)"
      ],
      "metadata": {
        "colab": {
          "base_uri": "https://localhost:8080/"
        },
        "id": "HkRLketqLoOV",
        "outputId": "8962091c-8bff-49f6-9e01-3c2c248710fb"
      },
      "execution_count": 14,
      "outputs": [
        {
          "output_type": "stream",
          "name": "stdout",
          "text": [
            "[0.024, 0.047, 0.016, -0.008, 0.022, -0.014, 0.011, -0.001, 0.091, -0.04, 0.041, 0.083, 0.04, 0.012, 0.027, 0.005, 0.0, -0.002, 0.053, -0.019, 0.035, -0.028, 0.006, -0.006, -0.025, -0.029, 0.092, -0.012, 0.02, 0.077, 0.001, -0.026, 0.004, 0.008, -0.047, 0.074, 0.088, -0.01, 0.002, 0.043, 0.067, -0.015, 0.007, 0.068, -0.017, 0.033, 0.048, 0.028, -0.005, -0.032, -0.003, 0.084, -0.03, 0.031, 0.079, 0.003, -0.036, 0.062, -0.018, -0.035, 0.036, 0.086, -0.022, -0.043, -0.044, 0.042, 0.096, 0.025, 0.051, 0.05, 0.057, 0.098, 0.095, 0.087, 0.01, 0.094, -0.009, 0.049, -0.024, 0.059, 0.044, 0.06, 0.026, 0.052, 0.056, 0.045, -0.034, 0.078, 0.034, 0.029, 0.097, 0.07, 0.081, 0.065, 0.082, 0.014, 0.055, -0.031, -0.045, 0.099]\n"
          ]
        }
      ]
    },
    {
      "cell_type": "code",
      "source": [
        "#Step 1 = Calculate value of portfolio.\n",
        "#Initial investment = 1, value of the portfolio is calculated using initial investment and cumulative product.\n",
        "#For eg. Value of the portfolio at the end of period 10 would be (1*(1+p1 return)*(1+p2 return)*....(1+p10 return))\n",
        "\n",
        "cmfactor = [0]*(len(rets))\n",
        "\n",
        "def portvalue(rets):\n",
        "    mfactor = [1+x for x in rets]\n",
        "    for i in range(0,len(rets)):\n",
        "      if i == 0:\n",
        "        cmfactor[i] = II * mfactor[i]\n",
        "      else:\n",
        "        cmfactor[i] = cmfactor[i-1]*mfactor[i]\n",
        "      cmfactor[i] = round(cmfactor[i],4)\n",
        "    return(cmfactor)\n",
        "\n",
        "portvalue = portvalue(rets)\n",
        "\n",
        "print(portvalue)\n"
      ],
      "metadata": {
        "colab": {
          "base_uri": "https://localhost:8080/"
        },
        "id": "n7fzfUK7LwsS",
        "outputId": "42c843d8-fc63-4d08-9611-052d3237329b"
      },
      "execution_count": 15,
      "outputs": [
        {
          "output_type": "stream",
          "name": "stdout",
          "text": [
            "[1.024, 1.0721, 1.0893, 1.0806, 1.1044, 1.0889, 1.1009, 1.0998, 1.1999, 1.1519, 1.1991, 1.2986, 1.3505, 1.3667, 1.4036, 1.4106, 1.4106, 1.4078, 1.4824, 1.4542, 1.5051, 1.463, 1.4718, 1.463, 1.4264, 1.385, 1.5124, 1.4943, 1.5242, 1.6416, 1.6432, 1.6005, 1.6069, 1.6198, 1.5437, 1.6579, 1.8038, 1.7858, 1.7894, 1.8663, 1.9913, 1.9614, 1.9751, 2.1094, 2.0735, 2.1419, 2.2447, 2.3076, 2.2961, 2.2226, 2.2159, 2.402, 2.3299, 2.4021, 2.5919, 2.5997, 2.5061, 2.6615, 2.6136, 2.5221, 2.6129, 2.8376, 2.7752, 2.6559, 2.539, 2.6456, 2.8996, 2.9721, 3.1237, 3.2799, 3.4669, 3.8067, 4.1683, 4.5309, 4.5762, 5.0064, 4.9613, 5.2044, 5.0795, 5.3792, 5.6159, 5.9529, 6.1077, 6.4253, 6.7851, 7.0904, 6.8493, 7.3835, 7.6345, 7.8559, 8.6179, 9.2212, 9.9681, 10.616, 11.4865, 11.6473, 12.2879, 11.907, 11.3712, 12.4969]\n"
          ]
        }
      ]
    },
    {
      "cell_type": "code",
      "source": [
        "# Step 2 = Find all difference. \n",
        "# The idea is to create a matrix which contains differences betweem all portfolio value. \n",
        "# For eg - The first row of the matrix will contain difference between initial investment and the subsequent values. \n",
        "# This can be optimized by running the for loop in reverse(i.e from 99 to 0) and stopping the iteration as soon we find a future drawdown greater than the current drawdown.  \n",
        "# For eg. Value at t0 = 1. Value at time 10 = 1.3 Value at time 23 = .5. The drawdown from time 10 will always be greater than the drawdown from t0. So we need to evaluate only till t9 for t0.\n",
        "# This is current done by running a for loop where I compare each element with elements below in the same column. If they are smaller(larger drawdown), the element will reset to 0 now and be removed in Step 3.  \n",
        "\n",
        "\n",
        "#Matrix of differences\n",
        "\n",
        "ddmatrix = [[0 for i in range(len(rets))] for a in range(len(rets))]\n",
        "\n",
        "def diffmat(rets):\n",
        "    for i in range(len(rets)):\n",
        "      if i == 0:\n",
        "        for a in range(len(rets)):\n",
        "         ddmatrix[i][a]= (portvalue[a]-II)/II\n",
        "      else:\n",
        "        for a in range(len(rets)):\n",
        "         ddmatrix[i][a]= (portvalue[a]-portvalue[i-1])/portvalue[i-1]\n",
        "    return(ddmatrix)\n",
        "\n",
        "ddmatrix = diffmat(rets)\n",
        "\n",
        "#Making it upper triangle matrix. \n",
        "for i in range(len(ddmatrix)):\n",
        "  for a in range(len(ddmatrix)):\n",
        "    if a < i:\n",
        "      ddmatrix[i][a] = 0\n",
        "    else:\n",
        "      ddmatrix[i][a] = round(ddmatrix[i][a],4)\n",
        "    for b in range(b+1,len(ddmatrix)):\n",
        "      if ddmatrix[i][a] < ddmatrix[i][b]:\n",
        "        ddmatrix[i][a] = 0\n"
      ],
      "metadata": {
        "id": "qQ74BA2ML5HS"
      },
      "execution_count": 16,
      "outputs": []
    },
    {
      "cell_type": "code",
      "source": [
        "#Step 3 = Find the largest drawdown for each date. \n",
        "\n",
        "mddmatrix = [[0 for i in range(3)] for a in range(len(rets))]\n",
        "\n",
        "def min_value(ddmatrix):\n",
        "      l = len(ddmatrix)\n",
        "      minlist = [min((ddmatrix)[i]) for i in range(l)]\n",
        "      mdd = minlist\n",
        "      return (minlist)\n",
        "\n",
        "mdd = min_value(ddmatrix)\n",
        "\n",
        "print(list(mdd))"
      ],
      "metadata": {
        "id": "mHI2_MckBe8I",
        "colab": {
          "base_uri": "https://localhost:8080/"
        },
        "outputId": "9365f338-b1f0-45f7-f703-f5b534b309ad"
      },
      "execution_count": 18,
      "outputs": [
        {
          "output_type": "stream",
          "name": "stdout",
          "text": [
            "[0.024, 0, 0, -0.008, 0, -0.014, 0, -0.001, 0, -0.04, 0, 0, 0, 0, 0, -0.0133, -0.0181, -0.0181, -0.0162, -0.0657, -0.0476, -0.0798, -0.0533, -0.059, -0.0533, -0.029, 0, -0.012, 0, 0, -0.0596, -0.0606, -0.0355, -0.0393, -0.047, 0, 0, -0.01, 0, 0, 0, -0.015, 0, 0, -0.017, 0, 0, -0.0128, -0.0397, -0.0349, -0.003, 0, -0.03, 0, 0, -0.0331, -0.036, 0, -0.0524, -0.035, 0, -0.0283, -0.1052, -0.0851, -0.044, 0, 0, 0, 0, 0, 0, 0, 0, 0, 0, 0, -0.009, 0, -0.024, 0, 0, 0, 0, 0, 0, 0, -0.034, 0, 0, 0, 0, 0, 0, 0, 0, -0.01, -0.0237, -0.0746, -0.045, 0]\n"
          ]
        }
      ]
    },
    {
      "cell_type": "code",
      "source": [
        "#Step 4 - Build MDD Matrix(Maximum drawdown for each date along with the time period). \n",
        "#Remove 0s and overlapping drawdowns and return Nth drawdown. \n",
        "\n",
        "mddmatrix = [[0 for i in range(3)] for a in range(len(rets))]\n",
        "\n",
        "#Build MDD matrix and remove Zero drawdowns\n",
        "for x in range(len(mddmatrix)):\n",
        "  mddmatrix[x][0] = mdd[x]\n",
        "  for a in range(len(rets)):\n",
        "    if ddmatrix[x][a] == mddmatrix[x][0]:\n",
        "       mddmatrix[x][1] = x\n",
        "       mddmatrix[x][2] = a+1\n",
        "    if mddmatrix[x][0] >= 0: \n",
        "       mddmatrix[x][1] = 0\n",
        "       mddmatrix[x][2] = 0\n",
        "\n",
        "mddmatrix = ([i for i in mddmatrix if any(i)])\n",
        "mddmatrix.sort()\n",
        "\n",
        "#Remove overlapping drawdowns\n",
        "def unique(mddmat): \n",
        "    found = set()\n",
        "    for item in mddmat:\n",
        "        if item[2] not in found:\n",
        "            yield item\n",
        "            found.add(item[2])\n",
        "\n",
        "mddmatrix = list(unique(mddmatrix))\n",
        "#nth drawdown\n",
        "def ndraw(N):\n",
        "  if N > len(mddmatrix):\n",
        "    return(print(\"We do not have\", N, \"drawdown\"))\n",
        "  elif mddmatrix[1] == 0:\n",
        "    return(print(\"We do not have\", N, \"drawdown\"))\n",
        "  else:\n",
        "    return(mddmatrix[N-1])\n",
        "\n",
        "ndrawdown = ndraw(N)\n",
        "\n",
        "print(N, \"th largest drawdown is\", ndrawdown[0], \"and it occurs between\", ndrawdown[1], \"and\", ndrawdown[2])\n",
        "print(mddmatrix)"
      ],
      "metadata": {
        "colab": {
          "base_uri": "https://localhost:8080/"
        },
        "id": "qHiLGX7UiXdF",
        "outputId": "d7777616-2a55-43d1-e485-dbebb4200f01"
      },
      "execution_count": 22,
      "outputs": [
        {
          "output_type": "stream",
          "name": "stdout",
          "text": [
            "1 th largest drawdown is -0.1052 and it occurs between 62 and 65\n",
            "[[-0.1052, 62, 65], [-0.0798, 21, 26], [-0.0746, 97, 99], [-0.0606, 31, 35], [-0.0524, 58, 60], [-0.04, 9, 10], [-0.0397, 48, 51], [-0.036, 56, 57], [-0.034, 86, 87], [-0.03, 52, 53], [-0.024, 78, 79], [-0.017, 44, 45], [-0.015, 41, 42], [-0.014, 5, 6], [-0.012, 27, 28], [-0.01, 37, 38], [-0.009, 76, 77], [-0.008, 3, 4], [-0.001, 7, 8], [0.024, 0, 0]]\n"
          ]
        }
      ]
    }
  ]
}