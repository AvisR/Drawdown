{
  "nbformat": 4,
  "nbformat_minor": 0,
  "metadata": {
    "colab": {
      "name": "Drawdown.ipynb",
      "provenance": [],
      "collapsed_sections": [],
      "include_colab_link": true
    },
    "kernelspec": {
      "name": "python3",
      "display_name": "Python 3"
    },
    "language_info": {
      "name": "python"
    }
  },
  "cells": [
    {
      "cell_type": "markdown",
      "metadata": {
        "id": "view-in-github",
        "colab_type": "text"
      },
      "source": [
        "<a href=\"https://colab.research.google.com/github/AvisR/Drawdown/blob/main/Drawdown.ipynb\" target=\"_parent\"><img src=\"https://colab.research.google.com/assets/colab-badge.svg\" alt=\"Open In Colab\"/></a>"
      ]
    },
    {
      "cell_type": "markdown",
      "source": [
        "Question - Find N largest drawdowns given the return series and N\n",
        "\n",
        "Defining Drawdown - Largest negative movement in percentage. 2nd largest drawdown will be the 2nd largest negative movement in percentage. \n",
        "\n",
        "Drawdown = (Peak - Trough)/Peak\n",
        "\n",
        "Return series = rets\n",
        "\n",
        "N = N\n",
        "\n",
        "---\n",
        "\n"
      ],
      "metadata": {
        "id": "gGAsJUAZLal2"
      }
    },
    {
      "cell_type": "code",
      "source": [
        "#INPUTS - Create a list (10) of random returns from (-5% and 10%)\n",
        "#This will not be needed if we have a list of our own returns.\n",
        "#II = Initial Investment\n",
        "\n",
        "II = 1\n",
        "N = 1\n",
        "\n",
        "import random\n",
        "rets = random.sample(range(-50,100),100)\n",
        "rets = [x/1000 for x in rets]\n",
        "\n",
        "print(rets)"
      ],
      "metadata": {
        "colab": {
          "base_uri": "https://localhost:8080/"
        },
        "id": "HkRLketqLoOV",
        "outputId": "84de1901-38d1-4442-d87d-04162b771f49"
      },
      "execution_count": 92,
      "outputs": [
        {
          "output_type": "stream",
          "name": "stdout",
          "text": [
            "[-0.017, -0.011, 0.019, -0.037, 0.018, 0.075, 0.066, 0.072, 0.058, 0.057, -0.024, 0.088, 0.09, -0.006, -0.015, 0.025, -0.036, 0.026, 0.084, 0.027, 0.098, 0.089, -0.048, 0.003, 0.023, 0.045, 0.038, -0.039, 0.01, 0.014, 0.053, -0.044, 0.02, -0.009, -0.027, 0.082, 0.05, 0.056, 0.011, 0.069, 0.042, 0.032, 0.022, 0.04, 0.071, 0.008, 0.078, -0.018, -0.042, 0.052, 0.08, 0.068, 0.063, 0.037, 0.062, -0.032, 0.096, -0.016, 0.016, 0.081, -0.041, -0.023, 0.067, -0.007, -0.047, 0.048, -0.021, 0.041, -0.003, 0.094, -0.03, 0.064, -0.05, -0.045, 0.093, 0.039, 0.059, 0.004, -0.014, -0.049, 0.061, 0.047, -0.019, 0.024, 0.051, 0.001, -0.025, 0.002, 0.007, -0.005, -0.008, -0.035, 0.044, 0.036, 0.077, 0.0, -0.038, -0.043, -0.028, 0.083]\n"
          ]
        }
      ]
    },
    {
      "cell_type": "code",
      "source": [
        "#Step 1 = Calculate value of portfolio.\n",
        "#Initial investment = 1, value of the portfolio is calculated using initial investment and cumulative product.\n",
        "#For eg. Value of the portfolio at the end of period 10 would be (1*(1+p1 return)*(1+p2 return)*....(1+p10 return))\n",
        "\n",
        "cmfactor = [0]*(len(rets))\n",
        "\n",
        "def portvalue(rets):\n",
        "    mfactor = [1+x for x in rets]\n",
        "    for i in range(0,len(rets)):\n",
        "      if i == 0:\n",
        "        cmfactor[i] = II * mfactor[i]\n",
        "      else:\n",
        "        cmfactor[i] = cmfactor[i-1]*mfactor[i]\n",
        "      cmfactor[i] = round(cmfactor[i],4)\n",
        "    return(cmfactor)\n",
        "\n",
        "portvalue = portvalue(rets)\n",
        "\n",
        "print(portvalue)\n"
      ],
      "metadata": {
        "colab": {
          "base_uri": "https://localhost:8080/"
        },
        "id": "n7fzfUK7LwsS",
        "outputId": "3ec5956b-5222-4972-bb23-7d165d55a2f8"
      },
      "execution_count": 93,
      "outputs": [
        {
          "output_type": "stream",
          "name": "stdout",
          "text": [
            "[0.983, 0.9722, 0.9907, 0.954, 0.9712, 1.044, 1.1129, 1.193, 1.2622, 1.3341, 1.3021, 1.4167, 1.5442, 1.5349, 1.5119, 1.5497, 1.4939, 1.5327, 1.6614, 1.7063, 1.8735, 2.0402, 1.9423, 1.9481, 1.9929, 2.0826, 2.1617, 2.0774, 2.0982, 2.1276, 2.2404, 2.1418, 2.1846, 2.1649, 2.1064, 2.2791, 2.3931, 2.5271, 2.5549, 2.7312, 2.8459, 2.937, 3.0016, 3.1217, 3.3433, 3.37, 3.6329, 3.5675, 3.4177, 3.5954, 3.883, 4.147, 4.4083, 4.5714, 4.8548, 4.6994, 5.1505, 5.0681, 5.1492, 5.5663, 5.3381, 5.2153, 5.5647, 5.5257, 5.266, 5.5188, 5.4029, 5.6244, 5.6075, 6.1346, 5.9506, 6.3314, 6.0148, 5.7441, 6.2783, 6.5232, 6.9081, 6.9357, 6.8386, 6.5035, 6.9002, 7.2245, 7.0872, 7.2573, 7.6274, 7.635, 7.4441, 7.459, 7.5112, 7.4736, 7.4138, 7.1543, 7.4691, 7.738, 8.3338, 8.3338, 8.0171, 7.6724, 7.4576, 8.0766]\n"
          ]
        }
      ]
    },
    {
      "cell_type": "code",
      "source": [
        "# Step 2 = Find all difference. \n",
        "# The idea is to create a matrix which contains differences betweem all portfolio value. \n",
        "# For eg - The first row of the matrix will contain difference between initial investment and the subsequent values. \n",
        "# This can be optimized futher if we stop the iteration as soon we find a value greater than the value we are comparing as any drawdown found after that will not be the max drawdown.\n",
        "# For eg. Value at t0 = 1. Value at time 10 = 1.3 Value at time 23 = .5. The drawdown from time 10 will always be greater than the drawdown from t0. So we need to evaluate only till t9 for t0.\n",
        "\n",
        "#Matrix of differences\n",
        "\n",
        "ddmatrix = [[0 for i in range(len(rets))] for a in range(len(rets))]\n",
        "\n",
        "def drawdownmat(rets):\n",
        "    for i in range(len(rets)):\n",
        "      if i == 0:\n",
        "        for a in range(len(rets)):\n",
        "         ddmatrix[i][a]= (portvalue[a]-II)/II\n",
        "      else:\n",
        "        for a in range(len(rets)):\n",
        "         ddmatrix[i][a]= (portvalue[a]-portvalue[i-1])/portvalue[i-1]\n",
        "    return(ddmatrix)\n",
        "\n",
        "ddmatrix = drawdownmat(rets)\n",
        "\n",
        "for i in range(len(rets)):\n",
        "  for a in range(len(rets)):\n",
        "    if a < i:\n",
        "      ddmatrix[i][a] = 0\n",
        "    else:\n",
        "      ddmatrix[i][a] = round(ddmatrix[i][a],4)\n"
      ],
      "metadata": {
        "id": "qQ74BA2ML5HS"
      },
      "execution_count": 95,
      "outputs": []
    },
    {
      "cell_type": "code",
      "source": [
        "#Step 3 = Find the largest drawdown for each date. \n",
        "\n",
        "mddmatrix = [[0 for i in range(3)] for a in range(len(rets))]\n",
        "\n",
        "def min_value(ddmatrix):\n",
        "      l = len(ddmatrix)\n",
        "      minlist = [min((ddmatrix)[i]) for i in range(l)]\n",
        "      mdd = minlist\n",
        "      return (minlist)\n",
        "\n",
        "mdd = min_value(ddmatrix)"
      ],
      "metadata": {
        "id": "mHI2_MckBe8I"
      },
      "execution_count": 96,
      "outputs": []
    },
    {
      "cell_type": "code",
      "source": [
        "#Step 4 - Build MDD Matrix(Maximum drawdown for each date along with the time period). \n",
        "#Remove 0s and overlapping drawdowns and return Nth drawdown. \n",
        "\n",
        "mddmatrix = [[0 for i in range(3)] for a in range(len(rets))]\n",
        "\n",
        "#Build MDD matrix and remove Zero drawdowns\n",
        "for x in range(len(mddmatrix)):\n",
        "  mddmatrix[x][0] = mdd[x]\n",
        "  for a in range(len(rets)):\n",
        "    if ddmatrix[x][a] == mddmatrix[x][0]:\n",
        "       mddmatrix[x][1] = x\n",
        "       mddmatrix[x][2] = a+1\n",
        "    if mddmatrix[x][0] >= 0: \n",
        "       mddmatrix[x][1] = 0\n",
        "       mddmatrix[x][2] = 0\n",
        "\n",
        "mddmatrix = ([i for i in mddmatrix if any(i)])\n",
        "mddmatrix.sort()\n",
        "\n",
        "#Remove overlapping drawdowns\n",
        "def unique_items(L): \n",
        "    found = set()\n",
        "    for item in L:\n",
        "        if item[2] not in found:\n",
        "            yield item\n",
        "            found.add(item[2])\n",
        "\n",
        "mddmatrix = list(unique_items(mddmatrix))\n",
        "#nth drawdown\n",
        "def ndraw(N):\n",
        "  if N > len(mddmatrix):\n",
        "    return(print(\"We do not have\", N, \"drawdown\"))\n",
        "  elif mddmatrix[1] == 0:\n",
        "    return(print(\"We do not have\", N, \"drawdown\"))\n",
        "  else:\n",
        "    return(mddmatrix[N-1])\n",
        "\n",
        "ndrawdown = ndraw(N)\n",
        "\n",
        "print(N, \"th largest drawdown is\", ndrawdown[0], \"and it occurs between\", ndrawdown[1], \"and\", ndrawdown[2])"
      ],
      "metadata": {
        "colab": {
          "base_uri": "https://localhost:8080/"
        },
        "id": "qHiLGX7UiXdF",
        "outputId": "4201b008-083f-4df6-c36b-68b1652c52fb"
      },
      "execution_count": 97,
      "outputs": [
        {
          "output_type": "stream",
          "name": "stdout",
          "text": [
            "1 th largest drawdown is -0.1051 and it occurs between 95 and 99\n"
          ]
        }
      ]
    }
  ]
}